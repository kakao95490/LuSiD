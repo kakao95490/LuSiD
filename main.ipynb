{
 "cells": [
  {
   "cell_type": "code",
   "execution_count": null,
   "metadata": {},
   "outputs": [],
   "source": [
    "import pandas as pd\n",
    "import numpy as np\n",
    "import ast\n",
    "from keras.optimizers import Adam\n",
    "from Script_model.model import create_model\n",
    "from keras.preprocessing.image import ImageDataGenerator\n",
    "\n",
    "def load_images_from_csv(csv_file):\n",
    "    df = pd.read_csv(csv_file)\n",
    "    images = []\n",
    "    for i, row in df.iterrows():\n",
    "        # Convertir la chaîne en tableau numpy\n",
    "        img_array = np.array(ast.literal_eval(row['image']))\n",
    "        images.append(img_array)\n",
    "    return np.array(images)"
   ]
  },
  {
   "cell_type": "markdown",
   "metadata": {},
   "source": [
    "Chargement du dataset d'images depuis les fichiers csv"
   ]
  },
  {
   "cell_type": "code",
   "execution_count": null,
   "metadata": {},
   "outputs": [],
   "source": [
    "train_lr_images = load_images_from_csv('dataset/train_lr_df.csv')\n",
    "train_hr_images = load_images_from_csv('dataset/train_hr_df.csv')\n",
    "val_lr_images = load_images_from_csv('dataset/val_lr_df.csv')\n",
    "val_hr_images = load_images_from_csv('dataset/val_hr_df.csv')\n",
    "test_lr_images = load_images_from_csv('dataset/test_lr_df.csv')\n",
    "test_hr_images = load_images_from_csv('dataset/test_hr_df.csv')"
   ]
  },
  {
   "cell_type": "markdown",
   "metadata": {},
   "source": [
    "Normalisation des valeurs des pixels pour qu'elles soient de 0 à 1"
   ]
  },
  {
   "cell_type": "code",
   "execution_count": null,
   "metadata": {},
   "outputs": [],
   "source": [
    "train_lr_images = train_lr_images / 255.0\n",
    "train_hr_images = train_hr_images / 255.0\n",
    "val_lr_images = val_lr_images / 255.0\n",
    "val_hr_images = val_hr_images / 255.0\n",
    "test_lr_images = test_lr_images / 255.0\n",
    "test_hr_images = test_hr_images / 255.0"
   ]
  },
  {
   "cell_type": "markdown",
   "metadata": {},
   "source": [
    "Augmentation des données pour améliorer les résultats de l'entrainement"
   ]
  },
  {
   "cell_type": "code",
   "execution_count": null,
   "metadata": {},
   "outputs": [],
   "source": [
    "datagen = ImageDataGenerator(\n",
    "    rotation_range=20,          # Rotation aléatoire de l'image de 20°\n",
    "    width_shift_range=0.2,      # Décalage horizontal\n",
    "    height_shift_range=0.2,     # Décalage vertical\n",
    "    shear_range=0.2,            # Transformation de cisaillement\n",
    "    zoom_range=0.2,             # Zoom aléatoire\n",
    "    horizontal_flip=True,       # Retourner l'image horizontalement\n",
    "    fill_mode='nearest'         # Remplir les pixels vides après transformation\n",
    ")\n",
    "\n",
    "# Appliquer l'augmentation aux images\n",
    "datagen.fit(train_lr_images)"
   ]
  },
  {
   "cell_type": "markdown",
   "metadata": {},
   "source": [
    "Parametres pour le model"
   ]
  },
  {
   "cell_type": "code",
   "execution_count": null,
   "metadata": {},
   "outputs": [],
   "source": [
    "image_shape = (128, 128, 3)\n",
    "n1, n2, n3 = 64, 32, 3\n",
    "f1, f2, f3 = (9, 9), (1, 1), (5, 5)"
   ]
  },
  {
   "cell_type": "markdown",
   "metadata": {},
   "source": [
    "Importation du model depuis /Script_model/modle.py"
   ]
  },
  {
   "cell_type": "code",
   "execution_count": null,
   "metadata": {},
   "outputs": [],
   "source": [
    "model = create_model(image_shape, n1, f1, n2, f2, n3, f3)"
   ]
  },
  {
   "cell_type": "markdown",
   "metadata": {},
   "source": [
    "Compilation du model, les paramètres peuvent être à revoir"
   ]
  },
  {
   "cell_type": "code",
   "execution_count": null,
   "metadata": {},
   "outputs": [],
   "source": [
    "model.compile(optimizer=Adam(learning_rate=0.001), loss='mean_squared_error')\n"
   ]
  },
  {
   "cell_type": "markdown",
   "metadata": {},
   "source": [
    "Entrainement du model"
   ]
  },
  {
   "cell_type": "code",
   "execution_count": null,
   "metadata": {},
   "outputs": [],
   "source": [
    "model.fit(\n",
    "    datagen.flow(train_lr_images, train_hr_images, batch_size=32),\n",
    "    validation_data=(val_lr_images, val_hr_images),\n",
    "    epochs=50, \n",
    ")"
   ]
  },
  {
   "cell_type": "markdown",
   "metadata": {},
   "source": [
    "Evaluation du model"
   ]
  },
  {
   "cell_type": "code",
   "execution_count": null,
   "metadata": {},
   "outputs": [],
   "source": [
    "test_loss = model.evaluate(test_lr_images, test_hr_images)\n",
    "print(f\"Test Loss: {test_loss}\")"
   ]
  },
  {
   "cell_type": "markdown",
   "metadata": {},
   "source": [
    "Enregistrement du model afin de pouvoir l'utiliser plus facilement, ou si vous utilisez colab et ne voulez pas relancer l'entrainement"
   ]
  },
  {
   "cell_type": "code",
   "execution_count": null,
   "metadata": {},
   "outputs": [],
   "source": [
    "model.save('/content/my_model.h5')"
   ]
  },
  {
   "cell_type": "markdown",
   "metadata": {},
   "source": [
    "Telechargement du model\n"
   ]
  },
  {
   "cell_type": "code",
   "execution_count": null,
   "metadata": {},
   "outputs": [],
   "source": [
    "from google.colab import files\n",
    "\n",
    "files.download('/content/my_model.h5')\n"
   ]
  }
 ],
 "metadata": {
  "kernelspec": {
   "display_name": "Python 3",
   "language": "python",
   "name": "python3"
  },
  "language_info": {
   "codemirror_mode": {
    "name": "ipython",
    "version": 3
   },
   "file_extension": ".py",
   "mimetype": "text/x-python",
   "name": "python",
   "nbconvert_exporter": "python",
   "pygments_lexer": "ipython3",
   "version": "3.12.6"
  }
 },
 "nbformat": 4,
 "nbformat_minor": 2
}

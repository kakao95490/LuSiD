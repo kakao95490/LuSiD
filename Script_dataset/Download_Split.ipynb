{
  "nbformat": 4,
  "nbformat_minor": 0,
  "metadata": {
    "colab": {
      "provenance": []
    },
    "kernelspec": {
      "name": "python3",
      "display_name": "Python 3"
    },
    "language_info": {
      "name": "python"
    }
  },
  "cells": [
    {
      "cell_type": "markdown",
      "source": [
        "Downloads :"
      ],
      "metadata": {
        "id": "ozcPgAM1_AkG"
      }
    },
    {
      "cell_type": "code",
      "execution_count": 30,
      "metadata": {
        "colab": {
          "base_uri": "https://localhost:8080/"
        },
        "id": "Q8rFpi1f-3Zg",
        "outputId": "4162c236-984b-4d84-ac15-f6a95597494c"
      },
      "outputs": [
        {
          "output_type": "stream",
          "name": "stdout",
          "text": [
            "Requirement already satisfied: kagglehub in /usr/local/lib/python3.10/dist-packages (0.3.4)\n",
            "Requirement already satisfied: packaging in /usr/local/lib/python3.10/dist-packages (from kagglehub) (24.2)\n",
            "Requirement already satisfied: requests in /usr/local/lib/python3.10/dist-packages (from kagglehub) (2.32.3)\n",
            "Requirement already satisfied: tqdm in /usr/local/lib/python3.10/dist-packages (from kagglehub) (4.66.6)\n",
            "Requirement already satisfied: charset-normalizer<4,>=2 in /usr/local/lib/python3.10/dist-packages (from requests->kagglehub) (3.4.0)\n",
            "Requirement already satisfied: idna<4,>=2.5 in /usr/local/lib/python3.10/dist-packages (from requests->kagglehub) (3.10)\n",
            "Requirement already satisfied: urllib3<3,>=1.21.1 in /usr/local/lib/python3.10/dist-packages (from requests->kagglehub) (2.2.3)\n",
            "Requirement already satisfied: certifi>=2017.4.17 in /usr/local/lib/python3.10/dist-packages (from requests->kagglehub) (2024.8.30)\n"
          ]
        }
      ],
      "source": [
        "!pip install kagglehub"
      ]
    },
    {
      "cell_type": "markdown",
      "source": [
        "Import :"
      ],
      "metadata": {
        "id": "Y_kKMa91_DGB"
      }
    },
    {
      "cell_type": "code",
      "source": [
        "import kagglehub\n",
        "import os\n",
        "import shutil\n",
        "from sklearn.model_selection import train_test_split\n",
        "import cv2\n",
        "import numpy as np\n",
        "import random\n",
        "from IPython.display import Image\n",
        "\n",
        "import pandas as pd"
      ],
      "metadata": {
        "id": "xpgj0BD9-_sU"
      },
      "execution_count": 63,
      "outputs": []
    },
    {
      "cell_type": "code",
      "source": [
        "\n",
        "\n",
        "# Download latest version\n",
        "path = kagglehub.dataset_download(\"rhtsingh/google-universal-image-embeddings-128x128\")\n",
        "\n",
        "print(\"Path to dataset files:\", path)"
      ],
      "metadata": {
        "colab": {
          "base_uri": "https://localhost:8080/"
        },
        "id": "kXSSNQXD--Qt",
        "outputId": "47207a08-82a3-4f52-d8b6-72ee61d801d3"
      },
      "execution_count": 32,
      "outputs": [
        {
          "output_type": "stream",
          "name": "stdout",
          "text": [
            "Downloading from https://www.kaggle.com/api/v1/datasets/download/rhtsingh/google-universal-image-embeddings-128x128?dataset_version_number=1...\n"
          ]
        },
        {
          "output_type": "stream",
          "name": "stderr",
          "text": [
            "100%|██████████| 1.36G/1.36G [00:18<00:00, 77.8MB/s]"
          ]
        },
        {
          "output_type": "stream",
          "name": "stdout",
          "text": [
            "Extracting files...\n"
          ]
        },
        {
          "output_type": "stream",
          "name": "stderr",
          "text": [
            "\n"
          ]
        },
        {
          "output_type": "stream",
          "name": "stdout",
          "text": [
            "Path to dataset files: /root/.cache/kagglehub/datasets/rhtsingh/google-universal-image-embeddings-128x128/versions/1\n"
          ]
        }
      ]
    },
    {
      "cell_type": "code",
      "source": [
        "shutil.move(path,\"./\")"
      ],
      "metadata": {
        "colab": {
          "base_uri": "https://localhost:8080/",
          "height": 35
        },
        "id": "nGfgQfbv_bAF",
        "outputId": "af6b089c-3ea1-4e1e-be1c-61bf923e3807"
      },
      "execution_count": 33,
      "outputs": [
        {
          "output_type": "execute_result",
          "data": {
            "text/plain": [
              "'./1'"
            ],
            "application/vnd.google.colaboratory.intrinsic+json": {
              "type": "string"
            }
          },
          "metadata": {},
          "execution_count": 33
        }
      ]
    },
    {
      "cell_type": "code",
      "source": [
        "\n",
        "# Chemin du dossier d'entrée contenant les images\n",
        "input_dir = \"./1/128x128\"\n",
        "output_dir = \"dataset\"\n",
        "\n",
        "# Proportions pour train, val et test\n",
        "train_ratio = 0.7\n",
        "val_ratio = 0.15\n",
        "test_ratio = 0.15\n",
        "\n",
        "# Vérification que les proportions totalisent 1\n",
        "assert train_ratio + val_ratio + test_ratio == 1, \"Les proportions doivent totaliser 1.\"\n",
        "\n",
        "# Récupérer toutes les images de tous les sous-dossiers\n",
        "images = []\n",
        "for root, _, files in os.walk(input_dir):\n",
        "    for file in files:\n",
        "        if file.lower().endswith(('.png', '.jpg', '.jpeg', '.bmp', '.gif', '.tiff')):\n",
        "            images.append(os.path.join(root, file))\n",
        "\n",
        "# Mélanger et diviser les images en train, val et test\n",
        "train_images, temp_images = train_test_split(images, test_size=(1 - train_ratio), random_state=42)\n",
        "val_images, test_images = train_test_split(temp_images, test_size=test_ratio / (test_ratio + val_ratio), random_state=42)\n",
        "\n",
        "# Fonction pour copier les images dans les répertoires de sortie\n",
        "def copy_images(image_list, output_subdir):\n",
        "    output_path = os.path.join(output_dir, output_subdir)\n",
        "    os.makedirs(output_path, exist_ok=True)\n",
        "    for image_path in image_list:\n",
        "        shutil.copy(image_path, os.path.join(output_path, os.path.basename(image_path)))\n",
        "\n",
        "# Copier les images dans les répertoires train, val et test\n",
        "copy_images(train_images, \"train/train_HR\")\n",
        "copy_images(val_images, \"val/val_HR\")\n",
        "copy_images(test_images, \"test/test_HR\")\n",
        "\n",
        "print(\"Séparation des datasets terminée avec succès !\")\n"
      ],
      "metadata": {
        "colab": {
          "base_uri": "https://localhost:8080/"
        },
        "id": "3KbYCHe3_7dE",
        "outputId": "8eaad646-535a-4699-bc55-0de0af5a420c"
      },
      "execution_count": 34,
      "outputs": [
        {
          "output_type": "stream",
          "name": "stdout",
          "text": [
            "Séparation des datasets terminée avec succès !\n"
          ]
        }
      ]
    },
    {
      "cell_type": "code",
      "source": [
        "print(f\"Nombre d'images dans l'ensemble train : {len(train_images)}\")\n",
        "print(f\"Nombre d'images dans l'ensemble validation : {len(val_images)}\")\n",
        "print(f\"Nombre d'images dans l'ensemble test : {len(test_images)}\")"
      ],
      "metadata": {
        "colab": {
          "base_uri": "https://localhost:8080/"
        },
        "id": "dJhNPePHC-Hc",
        "outputId": "54c3f443-ec07-43b4-ef85-957d1f8f61b1"
      },
      "execution_count": 35,
      "outputs": [
        {
          "output_type": "stream",
          "name": "stdout",
          "text": [
            "Nombre d'images dans l'ensemble train : 92769\n",
            "Nombre d'images dans l'ensemble validation : 19879\n",
            "Nombre d'images dans l'ensemble test : 19880\n"
          ]
        }
      ]
    },
    {
      "cell_type": "code",
      "source": [
        "import os\n",
        "import cv2\n",
        "\n",
        "def downscaleImage(input_path, output_path, scale=3, kernel_size=3):\n",
        "\n",
        "    # Vérifier si le dossier de sortie existe, sinon le créer\n",
        "    if not os.path.exists(output_path):\n",
        "        os.makedirs(output_path)\n",
        "\n",
        "    # Liste tous les fichiers dans le dossier d'entrée\n",
        "    for filename in os.listdir(input_path):\n",
        "        # Crée le chemin complet du fichier\n",
        "        input_image_path = os.path.join(input_path, filename)\n",
        "\n",
        "        # Vérifie que c'est un fichier image (extensions .jpg, .jpeg, .png, etc.)\n",
        "        if os.path.isfile(input_image_path) and filename.lower().endswith(('.jpg', '.jpeg', '.png', '.bmp', '.tiff')):\n",
        "            # Charger l'image haute résolution (HR)\n",
        "            img_hr = cv2.imread(input_image_path)\n",
        "\n",
        "            # Vérifier que l'image a été correctement chargée\n",
        "            if img_hr is None:\n",
        "                print(f\"Erreur lors du chargement de l'image : {input_image_path}\")\n",
        "                continue\n",
        "\n",
        "            # Appliquer un flou gaussien à l'image\n",
        "            img_blurred = cv2.GaussianBlur(img_hr, (kernel_size, kernel_size), 0)\n",
        "\n",
        "            # Récupérer la taille originale de l'image\n",
        "            height, width = img_hr.shape[:2]\n",
        "\n",
        "            # Sous-échantillonner l'image par un facteur de downscaling\n",
        "            lr_img = cv2.resize(img_blurred, (width // scale, height // scale), interpolation=cv2.INTER_CUBIC)\n",
        "\n",
        "            # Rééchantillonner à la taille d'origine en utilisant l'interpolation bicubique\n",
        "            lr_img = cv2.resize(lr_img, (width, height), interpolation=cv2.INTER_CUBIC)\n",
        "\n",
        "            # Créer le chemin pour sauvegarder l'image downscalée dans le dossier de sortie\n",
        "            output_image_path = os.path.join(output_path, filename)\n",
        "\n",
        "            # Sauvegarder l'image basse résolution (LR) dans le dossier de sortie\n",
        "            cv2.imwrite(output_image_path, lr_img)\n"
      ],
      "metadata": {
        "id": "vE7cKFG2Tdgr"
      },
      "execution_count": 49,
      "outputs": []
    },
    {
      "cell_type": "code",
      "source": [
        "input_directory = \"/content/dataset/test/test_HR\"\n",
        "output_directory = \"/content/dataset/test/test_LR\"\n",
        "downscaleImage(input_directory, output_directory, scale=3, kernel_size=5)"
      ],
      "metadata": {
        "collapsed": true,
        "id": "Z1y0d0awVllu"
      },
      "execution_count": 50,
      "outputs": []
    },
    {
      "cell_type": "code",
      "source": [
        "input_directory = \"/content/dataset/train/train_HR\"\n",
        "output_directory = \"/content/dataset/train/train_LR\"\n",
        "downscaleImage(input_directory, output_directory, scale=3, kernel_size=5)"
      ],
      "metadata": {
        "collapsed": true,
        "id": "iT_IkvTidwkf"
      },
      "execution_count": 51,
      "outputs": []
    },
    {
      "cell_type": "code",
      "source": [
        "input_directory = \"/content/dataset/val/val_HR\"\n",
        "output_directory = \"/content/dataset/val/val_LR\"\n",
        "downscaleImage(input_directory, output_directory, scale=3, kernel_size=5)"
      ],
      "metadata": {
        "id": "pP_rH4_Zd1z2"
      },
      "execution_count": 52,
      "outputs": []
    },
    {
      "cell_type": "code",
      "source": [
        "\n",
        "# Assuming your image datasets are in the specified directories\n",
        "train_hr_dir = \"/content/dataset/train/train_HR\"\n",
        "train_lr_dir = \"/content/dataset/train/train_LR\"\n",
        "\n",
        "# Function to display a random image pair\n",
        "def display_random_image_pair():\n",
        "    hr_images = [f for f in os.listdir(train_hr_dir) if os.path.isfile(os.path.join(train_hr_dir, f))]\n",
        "    if not hr_images:\n",
        "        print(\"No images found in the high-resolution directory.\")\n",
        "        return\n",
        "\n",
        "    random_image = random.choice(hr_images)\n",
        "    hr_path = os.path.join(train_hr_dir, random_image)\n",
        "    lr_path = os.path.join(train_lr_dir, random_image)\n",
        "\n",
        "\n",
        "    if os.path.exists(hr_path) and os.path.exists(lr_path):\n",
        "        display(Image(filename=lr_path, width=256))\n",
        "        display(Image(filename=hr_path, width=256))\n",
        "    else:\n",
        "        print(f\"Could not find corresponding low/high res images for {random_image}\")\n",
        "\n",
        "# Call the function to display the image pair\n",
        "display_random_image_pair()"
      ],
      "metadata": {
        "colab": {
          "base_uri": "https://localhost:8080/",
          "height": 529
        },
        "id": "A5FGwOZqjuWr",
        "outputId": "3a2627ca-7857-448e-c222-6397fbd6836d"
      },
      "execution_count": 61,
      "outputs": [
        {
          "output_type": "display_data",
          "data": {
            "image/jpeg": "[encoded data removed]",
            "text/plain": [
              "<IPython.core.display.Image object>"
            ]
          },
          "metadata": {
            "image/jpeg": {
              "width": 256
            }
          }
        },
        {
          "output_type": "display_data",
          "data": {
            "image/jpeg": "[encoded data removed]",
            "text/plain": [
              "<IPython.core.display.Image object>"
            ]
          },
          "metadata": {
            "image/jpeg": {
              "width": 256
            }
          }
        }
      ]
    },
    {
      "cell_type": "code",
      "source": [
        "\n",
        "\n",
        "def create_image_dataframe(directory):\n",
        "    image_data = []\n",
        "    for filename in os.listdir(directory):\n",
        "        if filename.lower().endswith(('.png', '.jpg', '.jpeg', '.bmp', '.gif', '.tiff')):\n",
        "            filepath = os.path.join(directory, filename)\n",
        "            try:\n",
        "                img = cv2.imread(filepath)\n",
        "                if img is not None:\n",
        "                    image_data.append([filename, img])\n",
        "            except Exception as e:\n",
        "                print(f\"Error reading image {filename}: {e}\")\n",
        "    df = pd.DataFrame(image_data, columns=['image_name', 'image'])\n",
        "    return df\n",
        "\n",
        "\n"
      ],
      "metadata": {
        "id": "l_CIRA8XrBza"
      },
      "execution_count": 77,
      "outputs": []
    },
    {
      "cell_type": "code",
      "source": [
        "\n",
        "train_hr_df = create_image_dataframe(\"/content/dataset/train/train_HR\")\n",
        "print(train_hr_df.head())\n",
        "\n",
        "train_lr_df = create_image_dataframe(\"/content/dataset/train/train_LR\")\n",
        "print(train_lr_df.head())\n"
      ],
      "metadata": {
        "colab": {
          "base_uri": "https://localhost:8080/"
        },
        "id": "Wj1ei1ofrYYW",
        "outputId": "5bc685fb-16e5-445f-e86b-5b9f983c4644"
      },
      "execution_count": 78,
      "outputs": [
        {
          "output_type": "stream",
          "name": "stdout",
          "text": [
            "       image_name                                              image\n",
            "0  image30811.jpg  [[[255, 255, 255], [255, 255, 255], [255, 255,...\n",
            "1  image17732.jpg  [[[62, 108, 142], [57, 104, 136], [64, 109, 14...\n",
            "2   image3778.png  [[[157, 162, 160], [154, 160, 158], [152, 156,...\n",
            "3  image13618.jpg  [[[163, 157, 158], [150, 144, 145], [146, 138,...\n",
            "4  image30480.jpg  [[[255, 255, 255], [255, 255, 255], [255, 255,...\n",
            "       image_name                                              image\n",
            "0  image30811.jpg  [[[255, 255, 255], [255, 255, 255], [255, 255,...\n",
            "1  image17732.jpg  [[[58, 108, 138], [58, 108, 138], [58, 106, 13...\n",
            "2   image3778.png  [[[198, 201, 199], [198, 201, 199], [198, 201,...\n",
            "3  image13618.jpg  [[[166, 154, 152], [165, 153, 151], [162, 151,...\n",
            "4  image30480.jpg  [[[253, 255, 255], [253, 255, 255], [255, 255,...\n"
          ]
        }
      ]
    },
    {
      "cell_type": "code",
      "source": [
        "\n",
        "test_hr_df = create_image_dataframe(\"/content/dataset/test/test_HR\")\n",
        "print(test_hr_df.head())\n",
        "\n",
        "test_lr_df = create_image_dataframe(\"/content/dataset/test/test_LR\")\n",
        "print(test_lr_df.head())"
      ],
      "metadata": {
        "colab": {
          "base_uri": "https://localhost:8080/"
        },
        "id": "HBV3GzAtra4l",
        "outputId": "117d00c0-4068-4620-d3bb-8fe4694172d0"
      },
      "execution_count": 79,
      "outputs": [
        {
          "output_type": "stream",
          "name": "stdout",
          "text": [
            "       image_name                                              image\n",
            "0   image1556.png  [[[128, 128, 128], [128, 128, 128], [128, 128,...\n",
            "1  image30652.jpg  [[[232, 210, 198], [229, 209, 198], [246, 227,...\n",
            "2  image30480.jpg  [[[21, 31, 25], [18, 28, 22], [18, 30, 24], [2...\n",
            "3   image7303.jpg  [[[113, 112, 108], [113, 112, 108], [118, 117,...\n",
            "4   image9187.jpg  [[[255, 255, 255], [255, 255, 255], [255, 255,...\n",
            "       image_name                                              image\n",
            "0   image1556.png  [[[128, 128, 128], [128, 128, 128], [128, 128,...\n",
            "1  image30652.jpg  [[[221, 201, 190], [223, 205, 194], [230, 212,...\n",
            "2  image30480.jpg  [[[56, 66, 60], [54, 66, 60], [53, 65, 59], [4...\n",
            "3   image7303.jpg  [[[115, 114, 110], [116, 115, 111], [116, 115,...\n",
            "4   image9187.jpg  [[[255, 255, 255], [255, 255, 255], [255, 255,...\n"
          ]
        }
      ]
    },
    {
      "cell_type": "code",
      "source": [
        "\n",
        "val_hr_df = create_image_dataframe(\"/content/dataset/val/val_HR\")\n",
        "print(val_hr_df.head())\n",
        "\n",
        "val_lr_df = create_image_dataframe(\"/content/dataset/val/val_LR\")\n",
        "print(val_lr_df.head())"
      ],
      "metadata": {
        "colab": {
          "base_uri": "https://localhost:8080/"
        },
        "id": "nKNE_mLRrfnf",
        "outputId": "2f80230a-0822-4293-bea5-85bb2a948721"
      },
      "execution_count": 80,
      "outputs": [
        {
          "output_type": "stream",
          "name": "stdout",
          "text": [
            "       image_name                                              image\n",
            "0  image30811.jpg  [[[1, 1, 1], [1, 1, 1], [1, 1, 1], [1, 1, 1], ...\n",
            "1   image4246.png  [[[128, 128, 128], [128, 128, 128], [128, 128,...\n",
            "2   image3900.jpg  [[[8, 12, 13], [9, 13, 14], [10, 14, 15], [10,...\n",
            "3  image29717.jpg  [[[255, 255, 255], [255, 255, 255], [255, 255,...\n",
            "4  image7686.jpeg  [[[199, 197, 196], [202, 200, 199], [200, 198,...\n",
            "       image_name                                              image\n",
            "0  image30811.jpg  [[[1, 1, 1], [1, 1, 1], [1, 1, 1], [1, 1, 1], ...\n",
            "1   image4246.png  [[[128, 128, 128], [128, 128, 128], [128, 128,...\n",
            "2   image3900.jpg  [[[10, 12, 13], [11, 13, 14], [12, 14, 15], [1...\n",
            "3  image29717.jpg  [[[255, 255, 255], [255, 255, 255], [255, 255,...\n",
            "4  image7686.jpeg  [[[200, 198, 197], [200, 198, 197], [201, 199,...\n"
          ]
        }
      ]
    },
    {
      "cell_type": "code",
      "source": [
        "\n",
        "def display_random_image_from_df(df):\n",
        "    if df.empty:\n",
        "        print(\"DataFrame is empty. No images to display.\")\n",
        "        return\n",
        "\n",
        "    random_index = random.randint(0, len(df) - 1)\n",
        "    random_row = df.iloc[random_index]\n",
        "    image_name = random_row['image_name']\n",
        "    image_array = random_row['image']\n",
        "\n",
        "    # Convert the image array to a displayable format (e.g., using OpenCV)\n",
        "    from PIL import Image\n",
        "    image = Image.fromarray(cv2.cvtColor(image_array, cv2.COLOR_BGR2RGB))\n",
        "    display(image)\n",
        "\n",
        "# Example usage (replace with your actual DataFrame):\n",
        "display_random_image_from_df(train_hr_df)"
      ],
      "metadata": {
        "colab": {
          "base_uri": "https://localhost:8080/",
          "height": 145
        },
        "id": "EyjPMN6BrszN",
        "outputId": "d85425e9-8068-4cc4-e3de-d8f90da3da41"
      },
      "execution_count": 81,
      "outputs": [
        {
          "output_type": "display_data",
          "data": {
            "text/plain": [
              "<PIL.Image.Image image mode=RGB size=128x128>"
            ],
            "image/png": "[encoded data removed]",
            "image/jpeg": "[encoded data removed]"
          },
          "metadata": {}
        }
      ]
    },
    {
      "cell_type": "code",
      "source": [
        "train_hr_df.to_csv(\"train_hr_df.csv\", index=False)\n",
        "train_lr_df.to_csv(\"train_lr_df.csv\", index=False)\n",
        "\n",
        "test_hr_df.to_csv(\"test_hr_df.csv\", index=False)\n",
        "test_lr_df.to_csv(\"test_lr_df.csv\", index=False)\n",
        "\n",
        "val_hr_df.to_csv(\"val_hr_df.csv\", index=False)\n",
        "val_lr_df.to_csv(\"val_lr_df.csv\", index=False)"
      ],
      "metadata": {
        "id": "oTnC17sEwDma"
      },
      "execution_count": 82,
      "outputs": []
    }
  ]
}
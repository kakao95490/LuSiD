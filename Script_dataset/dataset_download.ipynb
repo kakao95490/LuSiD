{
 "cells": [
  {
   "cell_type": "code",
   "execution_count": null,
   "metadata": {
    "id": "xpgj0BD9-_sU"
   },
   "outputs": [],
   "source": [
    "!pip install kagglehub\n",
    "\n",
    "import kagglehub\n",
    "import os\n",
    "import shutil\n",
    "from sklearn.model_selection import train_test_split\n",
    "\n",
    "def dataset_download():\n",
    "\n",
    "    # Download latest version\n",
    "    path = kagglehub.dataset_download(\"rhtsingh/google-universal-image-embeddings-128x128\")\n",
    "\n",
    "    print(\"Path to dataset files:\", path)\n",
    "\n",
    "\n",
    "    # Chemin du dossier d'entrée contenant les images\n",
    "    input_dir = \"./1/128x128\"\n",
    "    output_dir = \"dataset\"\n",
    "\n",
    "    # Proportions pour train, val et test\n",
    "    train_ratio = 0.7\n",
    "    val_ratio = 0.15\n",
    "    test_ratio = 0.15\n",
    "\n",
    "    # Vérification que les proportions totalisent 1\n",
    "    assert train_ratio + val_ratio + test_ratio == 1, \"Les proportions doivent totaliser 1.\"\n",
    "\n",
    "    # Récupérer toutes les images de tous les sous-dossiers\n",
    "    images = []\n",
    "    for root, _, files in os.walk(input_dir):\n",
    "        for file in files:\n",
    "            if file.lower().endswith(('.png', '.jpg', '.jpeg', '.bmp', '.gif', '.tiff')):\n",
    "                images.append(os.path.join(root, file))\n",
    "\n",
    "    # Mélanger et diviser les images en train, val et test\n",
    "    train_images, temp_images = train_test_split(images, test_size=(1 - train_ratio), random_state=42)\n",
    "    val_images, test_images = train_test_split(temp_images, test_size=test_ratio / (test_ratio + val_ratio), random_state=42)\n",
    "\n",
    "    # Fonction pour copier les images dans les répertoires de sortie\n",
    "    def copy_images(image_list, output_subdir):\n",
    "        output_path = os.path.join(output_dir, output_subdir)\n",
    "        os.makedirs(output_path, exist_ok=True)\n",
    "        for image_path in image_list:\n",
    "            shutil.copy(image_path, os.path.join(output_path, os.path.basename(image_path)))\n",
    "\n",
    "    # Copier les images dans les répertoires train, val et test\n",
    "    copy_images(train_images, \"train\")\n",
    "    copy_images(val_images, \"val\")\n",
    "    copy_images(test_images, \"test\")\n",
    "\n",
    "    print(\"Séparation des datasets terminée avec succès !\")\n",
    "    \n",
    "    print(f\"Nombre d'images dans l'ensemble train : {len(train_images)}\")\n",
    "    print(f\"Nombre d'images dans l'ensemble validation : {len(val_images)}\")\n",
    "    print(f\"Nombre d'images dans l'ensemble test : {len(test_images)}\")\n",
    "        \n",
    "    return train_images,val_images,test_images\n"
   ]
  }
 ],
 "metadata": {
  "colab": {
   "provenance": []
  },
  "kernelspec": {
   "display_name": "Python 3",
   "name": "python3"
  },
  "language_info": {
   "name": "python"
  }
 },
 "nbformat": 4,
 "nbformat_minor": 0
}

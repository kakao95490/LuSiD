{
 "cells": [
  {
   "cell_type": "code",
   "execution_count": 4,
   "metadata": {},
   "outputs": [
    {
     "ename": "ModuleNotFoundError",
     "evalue": "No module named 'kagglehub'",
     "output_type": "error",
     "traceback": [
      "\u001b[1;31m---------------------------------------------------------------------------\u001b[0m",
      "\u001b[1;31mModuleNotFoundError\u001b[0m                       Traceback (most recent call last)",
      "Cell \u001b[1;32mIn[4], line 1\u001b[0m\n\u001b[1;32m----> 1\u001b[0m \u001b[38;5;28;01mfrom\u001b[39;00m \u001b[38;5;21;01mScript_dataset\u001b[39;00m\u001b[38;5;21;01m.\u001b[39;00m\u001b[38;5;21;01mdataset_download\u001b[39;00m \u001b[38;5;28;01mimport\u001b[39;00m dataset_download\n\u001b[0;32m      2\u001b[0m \u001b[38;5;28;01mfrom\u001b[39;00m \u001b[38;5;21;01mScript_model\u001b[39;00m\u001b[38;5;21;01m.\u001b[39;00m\u001b[38;5;21;01mmodel\u001b[39;00m \u001b[38;5;28;01mimport\u001b[39;00m create_model\n\u001b[0;32m      4\u001b[0m image_shape \u001b[38;5;241m=\u001b[39m (\u001b[38;5;241m33\u001b[39m, \u001b[38;5;241m33\u001b[39m, \u001b[38;5;241m3\u001b[39m)  \u001b[38;5;66;03m# Taille d'entrée (33x33 pixels, 3 canaux pour la couleur)\u001b[39;00m\n",
      "File \u001b[1;32mh:\\Documents\\GitHub\\LuSiD\\Script_dataset\\dataset_download.py:1\u001b[0m\n\u001b[1;32m----> 1\u001b[0m \u001b[38;5;28;01mimport\u001b[39;00m \u001b[38;5;21;01mkagglehub\u001b[39;00m\n\u001b[0;32m      2\u001b[0m \u001b[38;5;28;01mimport\u001b[39;00m \u001b[38;5;21;01mos\u001b[39;00m\n\u001b[0;32m      3\u001b[0m \u001b[38;5;28;01mimport\u001b[39;00m \u001b[38;5;21;01mshutil\u001b[39;00m\n",
      "\u001b[1;31mModuleNotFoundError\u001b[0m: No module named 'kagglehub'"
     ]
    }
   ],
   "source": [
    "from Script_dataset.dataset_download import dataset_download\n",
    "from Script_model.model import create_model\n",
    "\n",
    "image_shape = (33, 33, 3)  # Taille d'entrée (33x33 pixels, 3 canaux pour la couleur)\n",
    "n1 = 64  # Nombre de filtres pour la 1ère couche\n",
    "f1 = (9, 9)  # Taille du filtre pour la 1ère couche\n",
    "n2 = 32  # Nombre de filtres pour la 2e couche\n",
    "f2 = (1, 1)  # Taille du filtre pour la 2e couche\n",
    "n3 = 3  # Nombre de filtres pour la dernière couche\n",
    "f3 = (5, 5)  # Taille du filtre pour la dernière couche\n",
    "\n",
    "model = create_model(image_shape,n1,f1,n2,f2,n3,f3)\n",
    "\n",
    "train_images, val_images, test_images = dataset_download()"
   ]
  }
 ],
 "metadata": {
  "kernelspec": {
   "display_name": "Python 3",
   "language": "python",
   "name": "python3"
  },
  "language_info": {
   "codemirror_mode": {
    "name": "ipython",
    "version": 3
   },
   "file_extension": ".py",
   "mimetype": "text/x-python",
   "name": "python",
   "nbconvert_exporter": "python",
   "pygments_lexer": "ipython3",
   "version": "3.12.6"
  }
 },
 "nbformat": 4,
 "nbformat_minor": 2
}
